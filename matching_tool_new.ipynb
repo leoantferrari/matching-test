{
 "cells": [
  {
   "cell_type": "code",
   "execution_count": 2,
   "metadata": {
    "collapsed": true
   },
   "outputs": [],
   "source": [
    "import tkinter as tk\n",
    "import json\n",
    "json_decoder = json.JSONDecoder()\n",
    "\n",
    "settings = []"
   ]
  },
  {
   "cell_type": "code",
   "execution_count": 3,
   "outputs": [],
   "source": [
    "def read_settings(file_name = \"./config/settings.json\"):\n",
    "    with open(file_name, mode=\"r\", encoding=\"utf-8\") as input_file:\n",
    "        return json_decoder.decode(input_file.read())\n",
    "settings = read_settings();"
   ],
   "metadata": {
    "collapsed": false
   }
  },
  {
   "cell_type": "code",
   "execution_count": 4,
   "outputs": [],
   "source": [
    "def edit_person(person_id,render_hook):\n",
    "    print(person_id)\n",
    "    id = int(person_id)\n",
    "    edit_window = tk.Tk()\n",
    "    person = {}\n",
    "    edit_window.title(\"Add Person\")\n",
    "\n",
    "    if \"owners\" in settings and len(settings[\"owners\"])>id:\n",
    "        person = settings[\"owners\"][id]\n",
    "        edit_window.title(\"Edit \"+person[\"pid\"])\n",
    "\n",
    "    # Create a new frame `frm_form` to contain the Label\n",
    "    # and Entry widgets for entering address information\n",
    "    edit_frm_form = tk.Frame(master=edit_window,relief=tk.SUNKEN, borderwidth=3)\n",
    "    # Pack the frame into the window\n",
    "    edit_frm_form.pack()\n",
    "\n",
    "    # List of field labels\n",
    "    labels = [\n",
    "        (\"first_name\",\"First Name:\"),\n",
    "        (\"last_name\", \"Last Name:\"),\n",
    "        (\"email\",\"Email:\"),\n",
    "        (\"pid\",\"PID:\"),\n",
    "    ]\n",
    "\n",
    "    widget_set = {\"test\":None}\n",
    "\n",
    "    # Loop over the list of field labels\n",
    "    for idx, text in enumerate(labels):\n",
    "        # Create a Label widget with the text from the labels list\n",
    "        label = tk.Label(master=edit_frm_form, text=text[1])\n",
    "        # Create an Entry widget\n",
    "        entry = tk.Entry(master=edit_frm_form, width=50)\n",
    "        if text[0] in person:\n",
    "            entry.insert(tk.END, person[text[0]])\n",
    "        widget_set[text[0]] = entry\n",
    "        # Use the grid geometry manager to place the Label and\n",
    "        # Entry widgets in the row whose index is idx\n",
    "        label.grid(row=idx, column=0, sticky=\"e\")\n",
    "        entry.grid(row=idx, column=1)\n",
    "\n",
    "    def get_current(id,render_hook):\n",
    "        person = {}\n",
    "        if \"owners\" in settings and len(settings[\"owners\"])>id:\n",
    "            person = settings[\"owners\"][id]\n",
    "        for val in widget_set:\n",
    "            if not val == \"test\":\n",
    "                label = widget_set[val]\n",
    "                person[val] = label.get()\n",
    "        if \"owners\" in settings and not len(settings[\"owners\"])>id:\n",
    "            settings[\"owners\"].append(person)\n",
    "        render_hook()\n",
    "        return person\n",
    "\n",
    "    # Create a new frame `frm_buttons` to contain the\n",
    "    # Submit and Clear buttons. This frame fills the\n",
    "    # whole window in the horizontal direction and has\n",
    "    # 5 pixels of horizontal and vertical padding.\n",
    "    frm_buttons = tk.Frame(master=edit_window)\n",
    "    frm_buttons.pack(fill=tk.X, ipadx=5, ipady=5)\n",
    "    def process_end():\n",
    "        get_current(int(person_id),render_hook)\n",
    "        close_app(master=edit_window)\n",
    "\n",
    "\n",
    "    # Create the \"Submit\" button and pack it to the\n",
    "    # right side of `frm_buttons`\n",
    "    btn_submit = tk.Button(master=frm_buttons, text=\"Ok\", command=process_end)\n",
    "    btn_submit.pack(side=tk.RIGHT, padx=10, ipadx=10)\n",
    "\n",
    "    # Create the \"Clear\" button and pack it to the\n",
    "    # right side of `frm_buttons`\n",
    "    btn_clear = tk.Button(master=frm_buttons, text=\"Clear\")\n",
    "    btn_clear.pack(side=tk.RIGHT, ipadx=10)\n",
    "\n",
    "    # Start the application\n",
    "    edit_window.mainloop()\n",
    "def delete_person(id,master):\n",
    "    settings[\"owners\"].pop(int(id))\n",
    "    parent = master.master\n",
    "    master.destroy()\n",
    "    render_people(settings[\"owners\"], parent)"
   ],
   "metadata": {
    "collapsed": false
   }
  },
  {
   "cell_type": "code",
   "execution_count": 5,
   "outputs": [],
   "source": [
    "def get_edit_row(pid,person, master, render_hook):\n",
    "    label = tk.Label(master=master, text=person[\"first_name\"]+\" \"+person[\"last_name\"])\n",
    "    label.grid(row=pid, column=0)\n",
    "    lol = str(pid)\n",
    "    btn_open = tk.Button(master=master,text=\"Edit\", command=lambda:edit_person(lol,render_hook=render_hook))\n",
    "    btn_open.grid(row=pid, column=1)\n",
    "    btn_open = tk.Button(master=master,text=\"Delete\", command=lambda:delete_person(lol,master))\n",
    "    btn_open.grid(row=pid, column=2)"
   ],
   "metadata": {
    "collapsed": false
   }
  },
  {
   "cell_type": "code",
   "execution_count": 7,
   "outputs": [
    {
     "name": "stdout",
     "output_type": "stream",
     "text": [
      "hello\n"
     ]
    }
   ],
   "source": [
    "def close_app(master):\n",
    "    master.destroy()\n",
    "\n",
    "def render_people(owners,frm_form):\n",
    "    print(\"hello\")\n",
    "    people = tk.Frame(master=frm_form, relief=tk.SUNKEN, borderwidth=3)\n",
    "    for pid, person in enumerate(owners):\n",
    "            get_edit_row(pid,person,people,render_hook=lambda:render_people(owners,frm_form))\n",
    "    btn_open = tk.Button(master=people,text=\"Add New\", command=lambda:edit_person(len(owners),render_hook=lambda:render_people(owners,frm_form)))\n",
    "    btn_open.grid(row=len(owners),column=2, sticky=\"ew\")\n",
    "    people.grid(row=1,column=1, sticky=\"ew\")\n",
    "\n",
    "def save_settings():\n",
    "    with open(\"./config/test.json\", mode=\"w\", encoding=\"utf-8\") as output_file:\n",
    "        text = json.JSONEncoder().encode(settings)\n",
    "        output_file.write(text)\n",
    "def change_setting(field):\n",
    "    value = settings[field]\n",
    "    if value:\n",
    "        value = False\n",
    "    else:\n",
    "        value = True\n",
    "    settings[field] = value\n",
    "\n",
    "def edit_settings():\n",
    "    window = tk.Tk()\n",
    "    window.title(\"Settings\")\n",
    "    frm_form = tk.Frame(relief=tk.SUNKEN, borderwidth=3)\n",
    "    # Pack the frame into the window\n",
    "    frm_form.pack()\n",
    "\n",
    "    labels = [(\"field\",\"type\", \"text\"),\n",
    "              (\"owners\", \"array\", \"Owners:\"),\n",
    "              (\"data\",\"file\",\"Data Path:\"),\n",
    "              (\"match_locations\", \"checkbox\", \"Match Locations:\")]\n",
    "\n",
    "    for idx, box in enumerate(labels):\n",
    "        if box[1] == \"type\":\n",
    "            continue\n",
    "        if box[1] == \"array\":\n",
    "            if box[0] in settings:\n",
    "                label = tk.Label(master=frm_form, text=box[2])\n",
    "                label.grid(row=idx, column=0, sticky=\"w\")\n",
    "                render_people(settings[box[0]],frm_form)\n",
    "            continue\n",
    "        if box[1] == \"checkbox\":\n",
    "            label = tk.Label(master=frm_form, text=box[2])\n",
    "            label.grid(row=idx, column=0, sticky=\"w\")\n",
    "            check = tk.Checkbutton(master=frm_form,\n",
    "                command=lambda: change_setting(box[0]), variable=box[2],\n",
    "                onvalue='1', offvalue='0')\n",
    "            check.grid(row=idx,column=1, sticky=\"w\")\n",
    "            continue\n",
    "\n",
    "        # Create a Label widget with the text from the labels list\n",
    "        label = tk.Label(master=frm_form, text=box[2])\n",
    "        # Create an Entry widget\n",
    "        entry = tk.Entry(master=frm_form, width=50)\n",
    "        if box[0] in settings:\n",
    "            entry.insert(tk.END, settings[box[0]])\n",
    "        # Use the grid geometry manager to place the Label and\n",
    "        # Entry widgets in the row whose index is idx\n",
    "        label.grid(row=idx, column=0, sticky=\"w\")\n",
    "        entry.grid(row=idx, column=1)\n",
    "\n",
    "    frm_buttons = tk.Frame(master=window)\n",
    "    frm_buttons.pack(fill=tk.X, ipadx=5, ipady=5)\n",
    "    btn_submit = tk.Button(master=frm_buttons, text=\"Save\", command=lambda:save_settings())\n",
    "    btn_submit.pack(side=tk.RIGHT, padx=10, ipadx=10)\n",
    "\n",
    "    # Create the \"Clear\" button and pack it to the\n",
    "    # right side of `frm_buttons`\n",
    "    btn_clear = tk.Button(master=frm_buttons, text=\"Exit\", command=lambda: close_app(master=window))\n",
    "    btn_clear.pack(side=tk.RIGHT, ipadx=10)\n",
    "\n",
    "    window.mainloop()\n",
    "edit_settings()"
   ],
   "metadata": {
    "collapsed": false
   }
  },
  {
   "cell_type": "code",
   "execution_count": 70,
   "outputs": [],
   "source": [
    "def read_settings(file_name = \"./config/settings.json\"):\n",
    "    with open(file_name, mode=\"r\", encoding=\"utf-8\") as input_file:\n",
    "        settings = json_decoder.decode(input_file.read())\n",
    "read_settings();"
   ],
   "metadata": {
    "collapsed": false
   }
  },
  {
   "cell_type": "code",
   "execution_count": 70,
   "outputs": [],
   "source": [],
   "metadata": {
    "collapsed": false
   }
  },
  {
   "cell_type": "code",
   "execution_count": 70,
   "outputs": [],
   "source": [],
   "metadata": {
    "collapsed": false
   }
  },
  {
   "cell_type": "code",
   "execution_count": 70,
   "outputs": [],
   "source": [],
   "metadata": {
    "collapsed": false
   }
  }
 ],
 "metadata": {
  "kernelspec": {
   "display_name": "Python 3",
   "language": "python",
   "name": "python3"
  },
  "language_info": {
   "codemirror_mode": {
    "name": "ipython",
    "version": 2
   },
   "file_extension": ".py",
   "mimetype": "text/x-python",
   "name": "python",
   "nbconvert_exporter": "python",
   "pygments_lexer": "ipython2",
   "version": "2.7.6"
  }
 },
 "nbformat": 4,
 "nbformat_minor": 0
}
